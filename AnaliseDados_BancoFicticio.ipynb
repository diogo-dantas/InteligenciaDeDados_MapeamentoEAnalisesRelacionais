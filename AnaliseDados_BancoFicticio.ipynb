{
 "cells": [
  {
   "cell_type": "markdown",
   "id": "78cf7945-5756-430f-9b96-2435919dedbc",
   "metadata": {},
   "source": [
    "## Inteligência de Dados: Mapeamento e Análises Relacionais"
   ]
  },
  {
   "cell_type": "markdown",
   "id": "4b446f16-2ba3-4c18-8438-9d103eded88f",
   "metadata": {},
   "source": [
    "### Cenário"
   ]
  },
  {
   "cell_type": "markdown",
   "id": "e21b2df9-45bf-4332-8796-c7ff441e1910",
   "metadata": {},
   "source": [
    "O projeto visa desenvolver um banco de dados relacional para o Departamento de Inteligência de Dados (ID) de um banco fictício, utilizando um modelo que incorpora três tabelas principais: DadosOrigem, FluxoDados e Analises. Este modelo é projetado para suportar todo o processo de extração, carregamento, transformação e análise de dados, permitindo que a equipe de dados gerencie e analise informações de maneira eficiente. Utilizarei PostgreSQL como sistema de gerenciamento de banco de dados, o que traz vantagens como suporte a transações complexas, escalabilidade superior e robustez no gerenciamento de dados. Além disso, a biblioteca Pandas facilitará a manipulação e análise dos dados, complementando as capacidades do PostgreSQL.\n",
    "\n",
    "Para preencher as tabelas com dados fictícios, será empregada a biblioteca Faker, que criará informações realistas de maneira aleatória, assegurando a integridade dos testes e simulações. Os comandos mágicos do IPython-SQL serão utilizados no Jupyter Notebook para simplificar a interação com o banco de dados e a execução de consultas SQL. Além disso, a visualização do modelo de entidade-relacionamento (ER) será realizada por meio da biblioteca Graphviz, possibilitando uma representação clara e intuitiva das relações entre as tabelas e seus respectivos fluxos de dados."
   ]
  },
  {
   "cell_type": "markdown",
   "id": "254e625e-6d98-4e20-9bd3-0cdc01a80694",
   "metadata": {},
   "source": [
    "### Bibliotecas utilizadas"
   ]
  },
  {
   "cell_type": "code",
   "execution_count": 1,
   "id": "d9a11701-66a2-4c29-9ba5-c686cd050b9e",
   "metadata": {},
   "outputs": [],
   "source": [
    "import psycopg2\n",
    "from postgres_setup import PostgresConnector\n",
    "from generate_random_data import DbConfig, DataGenerator\n",
    "import pandas as pd\n",
    "from datetime import datetime\n",
    "from dotenv import load_dotenv\n",
    "import os"
   ]
  },
  {
   "cell_type": "markdown",
   "id": "c40daff4-fc77-4d3d-b430-d2101af0cb6d",
   "metadata": {},
   "source": []
  },
  {
   "cell_type": "code",
   "execution_count": 2,
   "id": "6e9a2f30-a7f8-49e3-a465-ea770969aaf2",
   "metadata": {},
   "outputs": [
    {
     "data": {
      "text/plain": [
       "True"
      ]
     },
     "execution_count": 2,
     "metadata": {},
     "output_type": "execute_result"
    }
   ],
   "source": [
    "load_dotenv()"
   ]
  },
  {
   "cell_type": "code",
   "execution_count": 3,
   "id": "8853e275-917f-4cae-85a6-84afe6476a5f",
   "metadata": {},
   "outputs": [],
   "source": [
    "db_user = os.getenv(\"DB_USER\")\n",
    "db_password = os.getenv(\"DB_PASSWORD\")"
   ]
  },
  {
   "cell_type": "code",
   "execution_count": 4,
   "id": "8b99085a-c1a5-44ff-aba4-702c173c180a",
   "metadata": {},
   "outputs": [],
   "source": [
    "db_params = {\n",
    "    'dbname': 'smart_data_db',\n",
    "    'user': db_user,\n",
    "    'password': db_password,\n",
    "    'host': 'localhost',\n",
    "    'port': '5432'\n",
    "}"
   ]
  },
  {
   "cell_type": "code",
   "execution_count": 5,
   "id": "e448f92f-1ed0-4d97-ae5f-89fd2dc54f0e",
   "metadata": {},
   "outputs": [],
   "source": [
    "postgres = PostgresConnector(**db_params)"
   ]
  },
  {
   "cell_type": "code",
   "execution_count": 6,
   "id": "55fa7c4c-674e-4eb3-beb0-88a9cb072244",
   "metadata": {},
   "outputs": [],
   "source": [
    "postgres.create_database_tables()"
   ]
  },
  {
   "cell_type": "code",
   "execution_count": 7,
   "id": "423792c5-2bc5-4d66-bc61-d9602b951a7f",
   "metadata": {},
   "outputs": [],
   "source": [
    "config = DbConfig(**db_params)"
   ]
  },
  {
   "cell_type": "code",
   "execution_count": 8,
   "id": "defeedc1-f2b3-4570-9226-1d87518142ad",
   "metadata": {},
   "outputs": [],
   "source": [
    "with DataGenerator(config) as generator:\n",
    "    df_origem, df_fluxo, df_analises = generator.gerar_e_inserir_dados()"
   ]
  },
  {
   "cell_type": "code",
   "execution_count": 9,
   "id": "ef40c688-6b53-4f51-b0bb-28e4f9d2a684",
   "metadata": {},
   "outputs": [
    {
     "data": {
      "text/html": [
       "<div>\n",
       "<style scoped>\n",
       "    .dataframe tbody tr th:only-of-type {\n",
       "        vertical-align: middle;\n",
       "    }\n",
       "\n",
       "    .dataframe tbody tr th {\n",
       "        vertical-align: top;\n",
       "    }\n",
       "\n",
       "    .dataframe thead th {\n",
       "        text-align: right;\n",
       "    }\n",
       "</style>\n",
       "<table border=\"1\" class=\"dataframe\">\n",
       "  <thead>\n",
       "    <tr style=\"text-align: right;\">\n",
       "      <th></th>\n",
       "      <th>id_origem</th>\n",
       "      <th>nome_origem</th>\n",
       "      <th>tipo_dado</th>\n",
       "      <th>volume</th>\n",
       "      <th>latencia</th>\n",
       "      <th>descricao</th>\n",
       "      <th>criado_em</th>\n",
       "      <th>atualizado_em</th>\n",
       "    </tr>\n",
       "  </thead>\n",
       "  <tbody>\n",
       "    <tr>\n",
       "      <th>0</th>\n",
       "      <td>1</td>\n",
       "      <td>Sistema Rede Social - Alves e Filhos</td>\n",
       "      <td>mídia</td>\n",
       "      <td>8042716</td>\n",
       "      <td>diário</td>\n",
       "      <td>Dolore qui perspiciatis tempora assumenda. Adi...</td>\n",
       "      <td>2023-10-07 06:12:00</td>\n",
       "      <td>2023-10-18 16:10:00</td>\n",
       "    </tr>\n",
       "    <tr>\n",
       "      <th>1</th>\n",
       "      <td>2</td>\n",
       "      <td>Sistema Rede Social - Pires</td>\n",
       "      <td>analítico</td>\n",
       "      <td>7436104</td>\n",
       "      <td>batch</td>\n",
       "      <td>Neque provident aliquid dolorem enim aspernatu...</td>\n",
       "      <td>2023-10-06 14:58:00</td>\n",
       "      <td>2023-10-14 16:58:00</td>\n",
       "    </tr>\n",
       "    <tr>\n",
       "      <th>2</th>\n",
       "      <td>3</td>\n",
       "      <td>Sistema Banco de Dados em Nuvem - Câmara</td>\n",
       "      <td>transacional</td>\n",
       "      <td>9728382</td>\n",
       "      <td>near real-time</td>\n",
       "      <td>Laudantium quidem similique corrupti cum persp...</td>\n",
       "      <td>2023-02-15 12:47:00</td>\n",
       "      <td>2023-03-10 06:59:00</td>\n",
       "    </tr>\n",
       "    <tr>\n",
       "      <th>3</th>\n",
       "      <td>4</td>\n",
       "      <td>Sistema Rede Social - Teixeira - EI</td>\n",
       "      <td>analítico</td>\n",
       "      <td>5479397</td>\n",
       "      <td>mensal</td>\n",
       "      <td>Optio veniam cumque minus. Incidunt distinctio...</td>\n",
       "      <td>2023-08-20 05:55:00</td>\n",
       "      <td>2023-09-02 12:15:00</td>\n",
       "    </tr>\n",
       "    <tr>\n",
       "      <th>4</th>\n",
       "      <td>5</td>\n",
       "      <td>Sistema Plataforma de Streaming - Martins</td>\n",
       "      <td>analítico</td>\n",
       "      <td>2146795</td>\n",
       "      <td>batch</td>\n",
       "      <td>Aperiam quas reiciendis autem.\\nModi consequun...</td>\n",
       "      <td>2023-07-01 19:42:00</td>\n",
       "      <td>2023-07-20 03:16:00</td>\n",
       "    </tr>\n",
       "  </tbody>\n",
       "</table>\n",
       "</div>"
      ],
      "text/plain": [
       "   id_origem                                nome_origem     tipo_dado  \\\n",
       "0          1       Sistema Rede Social - Alves e Filhos         mídia   \n",
       "1          2                Sistema Rede Social - Pires     analítico   \n",
       "2          3   Sistema Banco de Dados em Nuvem - Câmara  transacional   \n",
       "3          4        Sistema Rede Social - Teixeira - EI     analítico   \n",
       "4          5  Sistema Plataforma de Streaming - Martins     analítico   \n",
       "\n",
       "    volume        latencia                                          descricao  \\\n",
       "0  8042716          diário  Dolore qui perspiciatis tempora assumenda. Adi...   \n",
       "1  7436104           batch  Neque provident aliquid dolorem enim aspernatu...   \n",
       "2  9728382  near real-time  Laudantium quidem similique corrupti cum persp...   \n",
       "3  5479397          mensal  Optio veniam cumque minus. Incidunt distinctio...   \n",
       "4  2146795           batch  Aperiam quas reiciendis autem.\\nModi consequun...   \n",
       "\n",
       "            criado_em       atualizado_em  \n",
       "0 2023-10-07 06:12:00 2023-10-18 16:10:00  \n",
       "1 2023-10-06 14:58:00 2023-10-14 16:58:00  \n",
       "2 2023-02-15 12:47:00 2023-03-10 06:59:00  \n",
       "3 2023-08-20 05:55:00 2023-09-02 12:15:00  \n",
       "4 2023-07-01 19:42:00 2023-07-20 03:16:00  "
      ]
     },
     "execution_count": 9,
     "metadata": {},
     "output_type": "execute_result"
    }
   ],
   "source": [
    "df_origem.head()"
   ]
  },
  {
   "cell_type": "code",
   "execution_count": 12,
   "id": "eee8ac61-aa54-4ea0-b533-27338bc92e96",
   "metadata": {},
   "outputs": [
    {
     "data": {
      "text/plain": [
       "Index(['id_fluxo', 'id_origem', 'destino', 'status', 'data_criacao',\n",
       "       'data_atualizacao'],\n",
       "      dtype='object')"
      ]
     },
     "execution_count": 12,
     "metadata": {},
     "output_type": "execute_result"
    }
   ],
   "source": [
    "df_fluxo.columns"
   ]
  },
  {
   "cell_type": "code",
   "execution_count": 14,
   "id": "a5e8af33-6f40-4304-93ac-2bad32b3a196",
   "metadata": {},
   "outputs": [
    {
     "data": {
      "text/plain": [
       "(300, 6)"
      ]
     },
     "execution_count": 14,
     "metadata": {},
     "output_type": "execute_result"
    }
   ],
   "source": [
    "df_analises.shape"
   ]
  },
  {
   "cell_type": "code",
   "execution_count": null,
   "id": "1469db3c-4be1-465d-8ad9-ca8c8e75580a",
   "metadata": {},
   "outputs": [],
   "source": []
  }
 ],
 "metadata": {
  "kernelspec": {
   "display_name": "Python 3 (ipykernel)",
   "language": "python",
   "name": "python3"
  },
  "language_info": {
   "codemirror_mode": {
    "name": "ipython",
    "version": 3
   },
   "file_extension": ".py",
   "mimetype": "text/x-python",
   "name": "python",
   "nbconvert_exporter": "python",
   "pygments_lexer": "ipython3",
   "version": "3.12.3"
  }
 },
 "nbformat": 4,
 "nbformat_minor": 5
}
