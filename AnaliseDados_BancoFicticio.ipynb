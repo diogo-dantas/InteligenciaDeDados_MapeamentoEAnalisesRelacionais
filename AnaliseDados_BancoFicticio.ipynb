{
 "cells": [
  {
   "cell_type": "markdown",
   "id": "78cf7945-5756-430f-9b96-2435919dedbc",
   "metadata": {},
   "source": [
    "## Inteligência de Dados: Mapeamento e Análises Relacionais"
   ]
  },
  {
   "cell_type": "markdown",
   "id": "4b446f16-2ba3-4c18-8438-9d103eded88f",
   "metadata": {},
   "source": [
    "### Cenário"
   ]
  },
  {
   "cell_type": "markdown",
   "id": "e21b2df9-45bf-4332-8796-c7ff441e1910",
   "metadata": {},
   "source": [
    "O projeto visa desenvolver um banco de dados relacional para o Departamento de Inteligência de Dados (ID) de um banco fictício, utilizando um modelo que incorpora três tabelas principais: dados_origem, fluxo_dados e analises. Este modelo é projetado para suportar todo o processo de extração, carregamento, transformação e análise de dados, permitindo que a equipe de dados gerencie e analise informações de maneira eficiente. Utilizarei PostgreSQL como sistema de gerenciamento de banco de dados, o que traz vantagens como suporte a transações complexas, escalabilidade superior e robustez no gerenciamento de dados. Além disso, a biblioteca Pandas facilitará a manipulação e análise dos dados, complementando as capacidades do PostgreSQL.\n",
    "\n",
    "Para preencher as tabelas com dados fictícios, será empregada a biblioteca Faker, que criará informações realistas de maneira aleatória, assegurando a integridade dos testes e simulações. Os comandos mágicos do IPython-SQL serão utilizados no Jupyter Notebook para simplificar a interação com o banco de dados e a execução de consultas SQL. Além disso, a visualização do modelo de entidade-relacionamento (ER) será realizada por meio da biblioteca Graphviz, possibilitando uma representação clara e intuitiva das relações entre as tabelas e seus respectivos fluxos de dados."
   ]
  },
  {
   "cell_type": "markdown",
   "id": "0483c73f-53ca-4878-90f3-71584223dd58",
   "metadata": {},
   "source": [
    "### Estrutura do Banco de Dados (*smart_data_db*)\n",
    "\n",
    "#### 1. Tabela: dados_origem\n",
    "Esta tabela armazena informações sobre as diferentes fontes de dados que estão sendo utilizadas.\n",
    "\n",
    "| Coluna           | Tipo           | Descrição                                       |\n",
    "|------------------|----------------|-------------------------------------------------|\n",
    "| id_origem        | SERIAL (PK)    | Identificador único da origem dos dados         |\n",
    "| nome_origem      | VARCHAR(255)   | Nome da origem dos dados                        |\n",
    "| tipo_dado        | VARCHAR(100)   | Tipo de dado (ex: transacional, log, etc.)      |\n",
    "| volume           | INT            | Volume estimado de dados na origem              |\n",
    "| latencia         | VARCHAR(50)    | Latência de atualização (ex: real-time, diário) |\n",
    "| descricao        | TEXT           | Descrição detalhada da origem                   |\n",
    "\n",
    "\n",
    "#### 2. Tabela: fluxo_dados\n",
    "Esta tabela representa os fluxos de dados desde a origem até o consumo final.\n",
    "\n",
    "| Coluna           | Tipo           | Descrição                                       |\n",
    "|------------------|----------------|-------------------------------------------------|\n",
    "| id_fluxo         | SERIAL (PK)    | Identificador único do fluxo de dados           |\n",
    "| id_origem        | INT (FK)       | Referência para a origem dos dados              |\n",
    "| destino          | VARCHAR(255)   | Destino do fluxo (ex: analistas, sistemas)      |\n",
    "| status           | VARCHAR(50)    | Status do fluxo (ex: ativo, inativo)            |\n",
    "| data_criacao     | TIMESTAMP      | Data em que o fluxo foi criado                  |\n",
    "| data_atualizacao | TIMESTAMP      | Data da última atualização do fluxo             |\n",
    "\n",
    "#### 3. Tabela: analises\n",
    "Esta tabela armazena as análises realizadas com os dados, incluindo suas hipóteses e resultados.\n",
    "\n",
    "| Coluna           | Tipo           | Descrição                                       |\n",
    "|------------------|----------------|-------------------------------------------------|\n",
    "| id_analise       | SERIAL (PK)    | Identificador único da análise                  |\n",
    "| id_fluxo         | INT (FK)       | Referência para o fluxo de dados utilizado      |\n",
    "| hipoteses        | TEXT           | Hipóteses levantadas para a análise             |\n",
    "| resultado        | TEXT           | Resultados da análise                           |\n",
    "| data_analise     | TIMESTAMP      | Data em que a análise foi realizada             |\n",
    "| responsavel      | VARCHAR(255)   | Nome do responsável pela análise                |"
   ]
  },
  {
   "cell_type": "markdown",
   "id": "254e625e-6d98-4e20-9bd3-0cdc01a80694",
   "metadata": {
    "jp-MarkdownHeadingCollapsed": true
   },
   "source": [
    "### Bibliotecas utilizadas"
   ]
  },
  {
   "cell_type": "code",
   "execution_count": 1,
   "id": "d9a11701-66a2-4c29-9ba5-c686cd050b9e",
   "metadata": {},
   "outputs": [],
   "source": [
    "import os\n",
    "import warnings\n",
    "from datetime import datetime\n",
    "\n",
    "import pandas as pd\n",
    "from dotenv import load_dotenv\n",
    "import psycopg2\n",
    "from graphviz import Digraph\n",
    "from IPython.display import Image, display\n",
    "\n",
    "from generate_random_data import DbConfig, DataGenerator\n",
    "from postgres_setup import PostgresConnector\n"
   ]
  },
  {
   "cell_type": "code",
   "execution_count": 2,
   "id": "230d598b-9819-44d3-8c36-3e1c9df866c1",
   "metadata": {},
   "outputs": [],
   "source": [
    "warnings.filterwarnings('ignore')"
   ]
  },
  {
   "cell_type": "markdown",
   "id": "c790626d-54e0-4462-b8e9-21bd5fbcf633",
   "metadata": {
    "jp-MarkdownHeadingCollapsed": true
   },
   "source": [
    "### Diagrama ER"
   ]
  },
  {
   "cell_type": "code",
   "execution_count": 3,
   "id": "bc5d8ae2-8a31-48ec-9091-02666da7bbc7",
   "metadata": {
    "scrolled": true
   },
   "outputs": [],
   "source": [
    "def diagrama_er():\n",
    "    dot = Digraph(comment='Diagrama ER do Banco de Dados')\n",
    "    dot.attr(rankdir='LR')  # Orientação da esquerda para direita\n",
    "    \n",
    "    dot.node('DadosOrigem', '''dados_origem\n",
    "    ----\n",
    "    + id_origem (PK)\n",
    "    nome_origem\n",
    "    tipo_dado\n",
    "    volume\n",
    "    latencia\n",
    "    descricao''')\n",
    "    \n",
    "    dot.node('FluxoDados', '''fluxo_dados\n",
    "    ----\n",
    "    + id_fluxo (PK)\n",
    "    # id_origem (FK)\n",
    "    destino\n",
    "    status\n",
    "    data_criacao\n",
    "    data_atualizacao''')\n",
    "    \n",
    "    dot.node('Analises', '''analises\n",
    "    ----\n",
    "    + id_analise (PK)\n",
    "    # id_fluxo (FK)\n",
    "    hipoteses\n",
    "    resultado\n",
    "    data_analise\n",
    "    responsavel''')\n",
    "    \n",
    "    # Adiciona relacionamentos\n",
    "    dot.edge('DadosOrigem', 'FluxoDados', '1:N')\n",
    "    dot.edge('FluxoDados', 'Analises', '1:N')\n",
    "    \n",
    "    return dot"
   ]
  },
  {
   "cell_type": "code",
   "execution_count": 4,
   "id": "fe9b26e1-b80f-4981-9ef9-ca29d49732e3",
   "metadata": {},
   "outputs": [
    {
     "data": {
      "image/png": "[encoded data removed]",
      "text/plain": [
       "<IPython.core.display.Image object>"
      ]
     },
     "metadata": {},
     "output_type": "display_data"
    }
   ],
   "source": [
    "diagrama = diagrama_er()\n",
    "diagrama.render('diagrama_er', format='png', cleanup=True)\n",
    "display(Image(filename='diagrama_er.png'))"
   ]
  },
  {
   "cell_type": "markdown",
   "id": "4491e9fb-0428-4968-abf2-d988ccb1b3c7",
   "metadata": {},
   "source": [
    "### Conexão e configuração do banco"
   ]
  },
  {
   "cell_type": "code",
   "execution_count": 5,
   "id": "6e9a2f30-a7f8-49e3-a465-ea770969aaf2",
   "metadata": {},
   "outputs": [
    {
     "data": {
      "text/plain": [
       "True"
      ]
     },
     "execution_count": 5,
     "metadata": {},
     "output_type": "execute_result"
    }
   ],
   "source": [
    "load_dotenv()"
   ]
  },
  {
   "cell_type": "code",
   "execution_count": 6,
   "id": "8853e275-917f-4cae-85a6-84afe6476a5f",
   "metadata": {},
   "outputs": [],
   "source": [
    "db_user = os.getenv(\"DB_USER\")\n",
    "db_password = os.getenv(\"DB_PASSWORD\")"
   ]
  },
  {
   "cell_type": "code",
   "execution_count": 7,
   "id": "8b99085a-c1a5-44ff-aba4-702c173c180a",
   "metadata": {},
   "outputs": [],
   "source": [
    "db_params = {\n",
    "    'dbname': 'smart_data_db',\n",
    "    'user': db_user,\n",
    "    'password': db_password,\n",
    "    'host': 'localhost',\n",
    "    'port': '5432'\n",
    "}"
   ]
  },
  {
   "cell_type": "code",
   "execution_count": 8,
   "id": "e448f92f-1ed0-4d97-ae5f-89fd2dc54f0e",
   "metadata": {},
   "outputs": [],
   "source": [
    "postgres = PostgresConnector(**db_params)"
   ]
  },
  {
   "cell_type": "code",
   "execution_count": 9,
   "id": "55fa7c4c-674e-4eb3-beb0-88a9cb072244",
   "metadata": {},
   "outputs": [],
   "source": [
    "postgres.create_database_tables()"
   ]
  },
  {
   "cell_type": "code",
   "execution_count": 10,
   "id": "423792c5-2bc5-4d66-bc61-d9602b951a7f",
   "metadata": {},
   "outputs": [],
   "source": [
    "config = DbConfig(**db_params)"
   ]
  },
  {
   "cell_type": "code",
   "execution_count": 11,
   "id": "defeedc1-f2b3-4570-9226-1d87518142ad",
   "metadata": {},
   "outputs": [],
   "source": [
    "with DataGenerator(config) as generator:\n",
    "    df_origem, df_fluxo, df_analises = generator.gerar_e_inserir_dados()"
   ]
  },
  {
   "cell_type": "code",
   "execution_count": 12,
   "id": "be03a493-ae86-4225-8662-b0ce4a55d80a",
   "metadata": {},
   "outputs": [
    {
     "data": {
      "text/html": [
       "<div>\n",
       "<style scoped>\n",
       "    .dataframe tbody tr th:only-of-type {\n",
       "        vertical-align: middle;\n",
       "    }\n",
       "\n",
       "    .dataframe tbody tr th {\n",
       "        vertical-align: top;\n",
       "    }\n",
       "\n",
       "    .dataframe thead th {\n",
       "        text-align: right;\n",
       "    }\n",
       "</style>\n",
       "<table border=\"1\" class=\"dataframe\">\n",
       "  <thead>\n",
       "    <tr style=\"text-align: right;\">\n",
       "      <th></th>\n",
       "      <th>id_origem</th>\n",
       "      <th>nome_origem</th>\n",
       "      <th>tipo_dado</th>\n",
       "      <th>volume</th>\n",
       "      <th>latencia</th>\n",
       "      <th>descricao</th>\n",
       "    </tr>\n",
       "  </thead>\n",
       "  <tbody>\n",
       "    <tr>\n",
       "      <th>0</th>\n",
       "      <td>1</td>\n",
       "      <td>Sistema App Mobile - Alves e Filhos</td>\n",
       "      <td>sensor</td>\n",
       "      <td>1865366</td>\n",
       "      <td>diário</td>\n",
       "      <td>Dolore qui perspiciatis tempora assumenda. Adi...</td>\n",
       "    </tr>\n",
       "    <tr>\n",
       "      <th>1</th>\n",
       "      <td>2</td>\n",
       "      <td>Sistema App Mobile - Pires</td>\n",
       "      <td>log</td>\n",
       "      <td>6818101</td>\n",
       "      <td>mensal</td>\n",
       "      <td>Neque provident aliquid dolorem enim aspernatu...</td>\n",
       "    </tr>\n",
       "    <tr>\n",
       "      <th>2</th>\n",
       "      <td>3</td>\n",
       "      <td>Sistema Plataforma de Streaming - Câmara</td>\n",
       "      <td>documento</td>\n",
       "      <td>3758117</td>\n",
       "      <td>batch</td>\n",
       "      <td>Laudantium quidem similique corrupti cum persp...</td>\n",
       "    </tr>\n",
       "  </tbody>\n",
       "</table>\n",
       "</div>"
      ],
      "text/plain": [
       "   id_origem                               nome_origem  tipo_dado   volume  \\\n",
       "0          1       Sistema App Mobile - Alves e Filhos     sensor  1865366   \n",
       "1          2                Sistema App Mobile - Pires        log  6818101   \n",
       "2          3  Sistema Plataforma de Streaming - Câmara  documento  3758117   \n",
       "\n",
       "  latencia                                          descricao  \n",
       "0   diário  Dolore qui perspiciatis tempora assumenda. Adi...  \n",
       "1   mensal  Neque provident aliquid dolorem enim aspernatu...  \n",
       "2    batch  Laudantium quidem similique corrupti cum persp...  "
      ]
     },
     "execution_count": 12,
     "metadata": {},
     "output_type": "execute_result"
    }
   ],
   "source": [
    "df_origem.head(3)"
   ]
  },
  {
   "cell_type": "code",
   "execution_count": 13,
   "id": "eee8ac61-aa54-4ea0-b533-27338bc92e96",
   "metadata": {},
   "outputs": [
    {
     "data": {
      "text/html": [
       "<div>\n",
       "<style scoped>\n",
       "    .dataframe tbody tr th:only-of-type {\n",
       "        vertical-align: middle;\n",
       "    }\n",
       "\n",
       "    .dataframe tbody tr th {\n",
       "        vertical-align: top;\n",
       "    }\n",
       "\n",
       "    .dataframe thead th {\n",
       "        text-align: right;\n",
       "    }\n",
       "</style>\n",
       "<table border=\"1\" class=\"dataframe\">\n",
       "  <thead>\n",
       "    <tr style=\"text-align: right;\">\n",
       "      <th></th>\n",
       "      <th>id_fluxo</th>\n",
       "      <th>id_origem</th>\n",
       "      <th>destino</th>\n",
       "      <th>status</th>\n",
       "      <th>data_criacao</th>\n",
       "      <th>data_atualizacao</th>\n",
       "    </tr>\n",
       "  </thead>\n",
       "  <tbody>\n",
       "    <tr>\n",
       "      <th>0</th>\n",
       "      <td>1</td>\n",
       "      <td>71</td>\n",
       "      <td>Data Warehouse</td>\n",
       "      <td>ativo</td>\n",
       "      <td>2023-01-13 14:05:00</td>\n",
       "      <td>2023-02-07 16:44:00</td>\n",
       "    </tr>\n",
       "    <tr>\n",
       "      <th>1</th>\n",
       "      <td>2</td>\n",
       "      <td>36</td>\n",
       "      <td>API Gateway</td>\n",
       "      <td>em teste</td>\n",
       "      <td>2023-01-21 15:07:00</td>\n",
       "      <td>2023-02-07 10:07:00</td>\n",
       "    </tr>\n",
       "    <tr>\n",
       "      <th>2</th>\n",
       "      <td>3</td>\n",
       "      <td>1</td>\n",
       "      <td>API Gateway</td>\n",
       "      <td>em manutenção</td>\n",
       "      <td>2023-01-18 01:48:00</td>\n",
       "      <td>2023-02-04 08:43:00</td>\n",
       "    </tr>\n",
       "  </tbody>\n",
       "</table>\n",
       "</div>"
      ],
      "text/plain": [
       "   id_fluxo  id_origem         destino         status        data_criacao  \\\n",
       "0         1         71  Data Warehouse          ativo 2023-01-13 14:05:00   \n",
       "1         2         36     API Gateway       em teste 2023-01-21 15:07:00   \n",
       "2         3          1     API Gateway  em manutenção 2023-01-18 01:48:00   \n",
       "\n",
       "     data_atualizacao  \n",
       "0 2023-02-07 16:44:00  \n",
       "1 2023-02-07 10:07:00  \n",
       "2 2023-02-04 08:43:00  "
      ]
     },
     "execution_count": 13,
     "metadata": {},
     "output_type": "execute_result"
    }
   ],
   "source": [
    "df_fluxo.head(3)"
   ]
  },
  {
   "cell_type": "code",
   "execution_count": 14,
   "id": "a5e8af33-6f40-4304-93ac-2bad32b3a196",
   "metadata": {},
   "outputs": [
    {
     "data": {
      "text/html": [
       "<div>\n",
       "<style scoped>\n",
       "    .dataframe tbody tr th:only-of-type {\n",
       "        vertical-align: middle;\n",
       "    }\n",
       "\n",
       "    .dataframe tbody tr th {\n",
       "        vertical-align: top;\n",
       "    }\n",
       "\n",
       "    .dataframe thead th {\n",
       "        text-align: right;\n",
       "    }\n",
       "</style>\n",
       "<table border=\"1\" class=\"dataframe\">\n",
       "  <thead>\n",
       "    <tr style=\"text-align: right;\">\n",
       "      <th></th>\n",
       "      <th>id_analise</th>\n",
       "      <th>id_fluxo</th>\n",
       "      <th>hipoteses</th>\n",
       "      <th>resultado</th>\n",
       "      <th>data_analise</th>\n",
       "      <th>responsavel</th>\n",
       "    </tr>\n",
       "  </thead>\n",
       "  <tbody>\n",
       "    <tr>\n",
       "      <th>0</th>\n",
       "      <td>1</td>\n",
       "      <td>13</td>\n",
       "      <td>Hipótese: Análise de Comportamento de Transaçõ...</td>\n",
       "      <td>Dicta quasi atque. Labore placeat est eum occa...</td>\n",
       "      <td>2023-02-18 05:37:00</td>\n",
       "      <td>Ryan Santos</td>\n",
       "    </tr>\n",
       "    <tr>\n",
       "      <th>1</th>\n",
       "      <td>2</td>\n",
       "      <td>157</td>\n",
       "      <td>Hipótese: Análise de Comportamento de Transaçõ...</td>\n",
       "      <td>Sint nisi similique cum minus. Eos ea facilis ...</td>\n",
       "      <td>2023-02-03 22:03:00</td>\n",
       "      <td>Samuel Barros</td>\n",
       "    </tr>\n",
       "    <tr>\n",
       "      <th>2</th>\n",
       "      <td>3</td>\n",
       "      <td>115</td>\n",
       "      <td>Hipótese: Segmentação de Clientes - Reiciendis...</td>\n",
       "      <td>Minus quasi rerum aspernatur dolor. Atque quam...</td>\n",
       "      <td>2023-03-02 04:49:00</td>\n",
       "      <td>Arthur Gabriel da Paz</td>\n",
       "    </tr>\n",
       "  </tbody>\n",
       "</table>\n",
       "</div>"
      ],
      "text/plain": [
       "   id_analise  id_fluxo                                          hipoteses  \\\n",
       "0           1        13  Hipótese: Análise de Comportamento de Transaçõ...   \n",
       "1           2       157  Hipótese: Análise de Comportamento de Transaçõ...   \n",
       "2           3       115  Hipótese: Segmentação de Clientes - Reiciendis...   \n",
       "\n",
       "                                           resultado        data_analise  \\\n",
       "0  Dicta quasi atque. Labore placeat est eum occa... 2023-02-18 05:37:00   \n",
       "1  Sint nisi similique cum minus. Eos ea facilis ... 2023-02-03 22:03:00   \n",
       "2  Minus quasi rerum aspernatur dolor. Atque quam... 2023-03-02 04:49:00   \n",
       "\n",
       "             responsavel  \n",
       "0            Ryan Santos  \n",
       "1          Samuel Barros  \n",
       "2  Arthur Gabriel da Paz  "
      ]
     },
     "execution_count": 14,
     "metadata": {},
     "output_type": "execute_result"
    }
   ],
   "source": [
    "df_analises.head(3)"
   ]
  },
  {
   "cell_type": "markdown",
   "id": "4ce7737a-77fe-4235-8e79-5bedec51df8f",
   "metadata": {},
   "source": [
    "### Padrões dos dados"
   ]
  },
  {
   "cell_type": "markdown",
   "id": "ed5d898f-9be9-4899-bbea-24db012bd617",
   "metadata": {},
   "source": [
    "#### Interpretação, avaliação, investigação e resultados. "
   ]
  },
  {
   "cell_type": "code",
   "execution_count": null,
   "id": "e80e1769-1b01-4a89-a81b-cc88f0d2e92e",
   "metadata": {},
   "outputs": [],
   "source": []
  }
 ],
 "metadata": {
  "kernelspec": {
   "display_name": "Python 3 (ipykernel)",
   "language": "python",
   "name": "python3"
  },
  "language_info": {
   "codemirror_mode": {
    "name": "ipython",
    "version": 3
   },
   "file_extension": ".py",
   "mimetype": "text/x-python",
   "name": "python",
   "nbconvert_exporter": "python",
   "pygments_lexer": "ipython3",
   "version": "3.12.3"
  }
 },
 "nbformat": 4,
 "nbformat_minor": 5
}
