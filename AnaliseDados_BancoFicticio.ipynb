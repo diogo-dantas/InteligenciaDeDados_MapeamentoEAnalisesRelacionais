{
 "cells": [
  {
   "cell_type": "markdown",
   "id": "78cf7945-5756-430f-9b96-2435919dedbc",
   "metadata": {},
   "source": [
    "## Inteligência de Dados: Mapeamento e Análises Relacionais"
   ]
  },
  {
   "cell_type": "markdown",
   "id": "4b446f16-2ba3-4c18-8438-9d103eded88f",
   "metadata": {},
   "source": [
    "### Cenário"
   ]
  },
  {
   "cell_type": "markdown",
   "id": "e21b2df9-45bf-4332-8796-c7ff441e1910",
   "metadata": {},
   "source": [
    "O projeto visa desenvolver um banco de dados relacional para o Departamento de Inteligência de Dados (ID) de um banco fictício, utilizando um modelo que incorpora três tabelas principais: DadosOrigem, FluxoDados e Analises. Este modelo é projetado para suportar todo o processo de extração, carregamento, transformação e análise de dados, permitindo que a equipe de dados gerencie e analise informações de maneira eficiente. Utilizarei PostgreSQL como sistema de gerenciamento de banco de dados, o que traz vantagens como suporte a transações complexas, escalabilidade superior e robustez no gerenciamento de dados. Além disso, a biblioteca Pandas facilitará a manipulação e análise dos dados, complementando as capacidades do PostgreSQL.\n",
    "\n",
    "Para preencher as tabelas com dados fictícios, será empregada a biblioteca Faker, que criará informações realistas de maneira aleatória, assegurando a integridade dos testes e simulações. Os comandos mágicos do IPython-SQL serão utilizados no Jupyter Notebook para simplificar a interação com o banco de dados e a execução de consultas SQL. Além disso, a visualização do modelo de entidade-relacionamento (ER) será realizada por meio da biblioteca Graphviz, possibilitando uma representação clara e intuitiva das relações entre as tabelas e seus respectivos fluxos de dados."
   ]
  },
  {
   "cell_type": "markdown",
   "id": "254e625e-6d98-4e20-9bd3-0cdc01a80694",
   "metadata": {},
   "source": [
    "### Bibliotecas utilizadas"
   ]
  },
  {
   "cell_type": "code",
   "execution_count": 1,
   "id": "d9a11701-66a2-4c29-9ba5-c686cd050b9e",
   "metadata": {},
   "outputs": [],
   "source": [
    "import psycopg2\n",
    "from postgres_setup import PostgresConnector\n",
    "import pandas as pd\n",
    "from datetime import datetime\n",
    "from dotenv import load_dotenv\n",
    "import os"
   ]
  },
  {
   "cell_type": "markdown",
   "id": "c40daff4-fc77-4d3d-b430-d2101af0cb6d",
   "metadata": {},
   "source": []
  },
  {
   "cell_type": "code",
   "execution_count": 2,
   "id": "6e9a2f30-a7f8-49e3-a465-ea770969aaf2",
   "metadata": {},
   "outputs": [
    {
     "data": {
      "text/plain": [
       "True"
      ]
     },
     "execution_count": 2,
     "metadata": {},
     "output_type": "execute_result"
    }
   ],
   "source": [
    "load_dotenv()"
   ]
  },
  {
   "cell_type": "code",
   "execution_count": 3,
   "id": "8853e275-917f-4cae-85a6-84afe6476a5f",
   "metadata": {},
   "outputs": [],
   "source": [
    "db_user = os.getenv(\"DB_USER\")\n",
    "db_password = os.getenv(\"DB_PASSWORD\")"
   ]
  },
  {
   "cell_type": "code",
   "execution_count": null,
   "id": "8b99085a-c1a5-44ff-aba4-702c173c180a",
   "metadata": {},
   "outputs": [],
   "source": []
  },
  {
   "cell_type": "code",
   "execution_count": 4,
   "id": "e448f92f-1ed0-4d97-ae5f-89fd2dc54f0e",
   "metadata": {},
   "outputs": [],
   "source": [
    "postgres = PostgresConnector(\n",
    "    dbname='smart_data_db',\n",
    "    user= db_user,\n",
    "    password= db_password,\n",
    "    host='localhost',\n",
    "    port='5432'\n",
    ")"
   ]
  },
  {
   "cell_type": "code",
   "execution_count": 5,
   "id": "55fa7c4c-674e-4eb3-beb0-88a9cb072244",
   "metadata": {},
   "outputs": [],
   "source": [
    "postgres.create_database_tables()"
   ]
  },
  {
   "cell_type": "code",
   "execution_count": null,
   "id": "423792c5-2bc5-4d66-bc61-d9602b951a7f",
   "metadata": {},
   "outputs": [],
   "source": []
  },
  {
   "cell_type": "code",
   "execution_count": null,
   "id": "defeedc1-f2b3-4570-9226-1d87518142ad",
   "metadata": {},
   "outputs": [],
   "source": []
  }
 ],
 "metadata": {
  "kernelspec": {
   "display_name": "Python 3 (ipykernel)",
   "language": "python",
   "name": "python3"
  },
  "language_info": {
   "codemirror_mode": {
    "name": "ipython",
    "version": 3
   },
   "file_extension": ".py",
   "mimetype": "text/x-python",
   "name": "python",
   "nbconvert_exporter": "python",
   "pygments_lexer": "ipython3",
   "version": "3.12.3"
  }
 },
 "nbformat": 4,
 "nbformat_minor": 5
}
