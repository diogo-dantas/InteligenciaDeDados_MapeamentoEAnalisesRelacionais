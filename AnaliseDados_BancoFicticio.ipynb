{
 "cells": [
  {
   "cell_type": "markdown",
   "id": "78cf7945-5756-430f-9b96-2435919dedbc",
   "metadata": {},
   "source": [
    "## Inteligência de Dados: Mapeamento e Análises Relacionais"
   ]
  },
  {
   "cell_type": "markdown",
   "id": "4b446f16-2ba3-4c18-8438-9d103eded88f",
   "metadata": {},
   "source": [
    "### Cenário"
   ]
  },
  {
   "cell_type": "markdown",
   "id": "e21b2df9-45bf-4332-8796-c7ff441e1910",
   "metadata": {},
   "source": [
    "O projeto visa desenvolver um banco de dados relacional para o Departamento de Inteligência de Dados (ID) de um banco fictício, utilizando um modelo que incorpora três tabelas principais: DadosOrigem, FluxoDados e Analises. Este modelo é projetado para suportar todo o processo de extração, carregamento, transformação e análise de dados, permitindo que a equipe de dados gerencie e analise informações de maneira eficiente. Utilizarei PostgreSQL como sistema de gerenciamento de banco de dados, o que traz vantagens como suporte a transações complexas, escalabilidade superior e robustez no gerenciamento de dados. Além disso, a biblioteca Pandas facilitará a manipulação e análise dos dados, complementando as capacidades do PostgreSQL.\n",
    "\n",
    "Para preencher as tabelas com dados fictícios, será empregada a biblioteca Faker, que criará informações realistas de maneira aleatória, assegurando a integridade dos testes e simulações. Os comandos mágicos do IPython-SQL serão utilizados no Jupyter Notebook para simplificar a interação com o banco de dados e a execução de consultas SQL. Além disso, a visualização do modelo de entidade-relacionamento (ER) será realizada por meio da biblioteca Graphviz, possibilitando uma representação clara e intuitiva das relações entre as tabelas e seus respectivos fluxos de dados."
   ]
  },
  {
   "cell_type": "markdown",
   "id": "0483c73f-53ca-4878-90f3-71584223dd58",
   "metadata": {},
   "source": [
    "### Estrutura do Banco de Dados\n",
    "\n",
    "#### 1. Tabela: DadosOrigem\n",
    "Esta tabela armazena informações sobre as diferentes fontes de dados que estão sendo utilizadas.\n",
    "\n",
    "| Coluna           | Tipo           | Descrição                                       |\n",
    "|------------------|----------------|-------------------------------------------------|\n",
    "| id_origem        | SERIAL (PK)    | Identificador único da origem dos dados         |\n",
    "| nome_origem      | VARCHAR(255)   | Nome da origem dos dados                        |\n",
    "| tipo_dado        | VARCHAR(100)   | Tipo de dado (ex: transacional, log, etc.)      |\n",
    "| volume           | INT            | Volume estimado de dados na origem              |\n",
    "| latencia         | VARCHAR(50)    | Latência de atualização (ex: real-time, diário) |\n",
    "| descricao        | TEXT           | Descrição detalhada da origem                   |\n",
    "\n",
    "\n",
    "#### 2. Tabela: FluxoDados\n",
    "Esta tabela representa os fluxos de dados desde a origem até o consumo final.\n",
    "\n",
    "| Coluna           | Tipo           | Descrição                                       |\n",
    "|------------------|----------------|-------------------------------------------------|\n",
    "| id_fluxo         | SERIAL (PK)    | Identificador único do fluxo de dados           |\n",
    "| id_origem        | INT (FK)       | Referência para a origem dos dados              |\n",
    "| destino          | VARCHAR(255)   | Destino do fluxo (ex: analistas, sistemas)      |\n",
    "| status           | VARCHAR(50)    | Status do fluxo (ex: ativo, inativo)            |\n",
    "| data_criacao     | TIMESTAMP      | Data em que o fluxo foi criado                  |\n",
    "| data_atualizacao | TIMESTAMP      | Data da última atualização do fluxo             |\n",
    "\n",
    "#### 3. Tabela: Analises\n",
    "Esta tabela armazena as análises realizadas com os dados, incluindo suas hipóteses e resultados.\n",
    "\n",
    "| Coluna           | Tipo           | Descrição                                       |\n",
    "|------------------|----------------|-------------------------------------------------|\n",
    "| id_analise       | SERIAL (PK)    | Identificador único da análise                  |\n",
    "| id_fluxo         | INT (FK)       | Referência para o fluxo de dados utilizado      |\n",
    "| hipoteses        | TEXT           | Hipóteses levantadas para a análise             |\n",
    "| resultado        | TEXT           | Resultados da análise                           |\n",
    "| data_analise     | TIMESTAMP      | Data em que a análise foi realizada             |\n",
    "| responsavel      | VARCHAR(255)   | Nome do responsável pela análise                |"
   ]
  },
  {
   "cell_type": "markdown",
   "id": "254e625e-6d98-4e20-9bd3-0cdc01a80694",
   "metadata": {},
   "source": [
    "### Bibliotecas utilizadas"
   ]
  },
  {
   "cell_type": "code",
   "execution_count": null,
   "id": "d9a11701-66a2-4c29-9ba5-c686cd050b9e",
   "metadata": {},
   "outputs": [],
   "source": [
    "import os\n",
    "import warnings\n",
    "from datetime import datetime\n",
    "\n",
    "import pandas as pd\n",
    "from dotenv import load_dotenv\n",
    "import psycopg2\n",
    "from graphviz import Digraph\n",
    "from IPython.display import Image, display\n",
    "\n",
    "from generate_random_data import DbConfig, DataGenerator\n",
    "from postgres_setup import PostgresConnector\n"
   ]
  },
  {
   "cell_type": "code",
   "execution_count": null,
   "id": "230d598b-9819-44d3-8c36-3e1c9df866c1",
   "metadata": {},
   "outputs": [],
   "source": [
    "warnings.filterwarnings('ignore')"
   ]
  },
  {
   "cell_type": "code",
   "execution_count": null,
   "id": "bc5d8ae2-8a31-48ec-9091-02666da7bbc7",
   "metadata": {
    "scrolled": true
   },
   "outputs": [],
   "source": [
    "def diagrama_er():\n",
    "    dot = Digraph(comment='Diagrama ER do Banco de Dados')\n",
    "    dot.attr(rankdir='LR')  # Orientação da esquerda para direita\n",
    "    \n",
    "    dot.node('DadosOrigem', '''dados_origem\n",
    "    ----\n",
    "    + id_origem (PK)\n",
    "    nome_origem\n",
    "    tipo_dado\n",
    "    volume\n",
    "    latencia\n",
    "    descricao''')\n",
    "    \n",
    "    dot.node('FluxoDados', '''fluxo_dados\n",
    "    ----\n",
    "    + id_fluxo (PK)\n",
    "    # id_origem (FK)\n",
    "    destino\n",
    "    status\n",
    "    data_criacao\n",
    "    data_atualizacao''')\n",
    "    \n",
    "    dot.node('Analises', '''analises\n",
    "    ----\n",
    "    + id_analise (PK)\n",
    "    # id_fluxo (FK)\n",
    "    hipoteses\n",
    "    resultado\n",
    "    data_analise\n",
    "    responsavel''')\n",
    "    \n",
    "    # Adiciona relacionamentos\n",
    "    dot.edge('DadosOrigem', 'FluxoDados', '1:N')\n",
    "    dot.edge('FluxoDados', 'Analises', '1:N')\n",
    "    \n",
    "    return dot"
   ]
  },
  {
   "cell_type": "code",
   "execution_count": null,
   "id": "fe9b26e1-b80f-4981-9ef9-ca29d49732e3",
   "metadata": {},
   "outputs": [],
   "source": [
    "diagrama = diagrama_er()\n",
    "diagrama.render('diagrama_er', format='png', cleanup=True)\n",
    "display(Image(filename='diagrama_er.png'))"
   ]
  },
  {
   "cell_type": "code",
   "execution_count": null,
   "id": "6e9a2f30-a7f8-49e3-a465-ea770969aaf2",
   "metadata": {},
   "outputs": [],
   "source": [
    "load_dotenv()"
   ]
  },
  {
   "cell_type": "code",
   "execution_count": null,
   "id": "8853e275-917f-4cae-85a6-84afe6476a5f",
   "metadata": {},
   "outputs": [],
   "source": [
    "db_user = os.getenv(\"DB_USER\")\n",
    "db_password = os.getenv(\"DB_PASSWORD\")"
   ]
  },
  {
   "cell_type": "code",
   "execution_count": null,
   "id": "8b99085a-c1a5-44ff-aba4-702c173c180a",
   "metadata": {},
   "outputs": [],
   "source": [
    "db_params = {\n",
    "    'dbname': 'smart_data_db',\n",
    "    'user': db_user,\n",
    "    'password': db_password,\n",
    "    'host': 'localhost',\n",
    "    'port': '5432'\n",
    "}"
   ]
  },
  {
   "cell_type": "code",
   "execution_count": null,
   "id": "e448f92f-1ed0-4d97-ae5f-89fd2dc54f0e",
   "metadata": {},
   "outputs": [],
   "source": [
    "postgres = PostgresConnector(**db_params)"
   ]
  },
  {
   "cell_type": "code",
   "execution_count": null,
   "id": "55fa7c4c-674e-4eb3-beb0-88a9cb072244",
   "metadata": {},
   "outputs": [],
   "source": [
    "postgres.create_database_tables()"
   ]
  },
  {
   "cell_type": "code",
   "execution_count": null,
   "id": "423792c5-2bc5-4d66-bc61-d9602b951a7f",
   "metadata": {},
   "outputs": [],
   "source": [
    "config = DbConfig(**db_params)"
   ]
  },
  {
   "cell_type": "code",
   "execution_count": null,
   "id": "defeedc1-f2b3-4570-9226-1d87518142ad",
   "metadata": {},
   "outputs": [],
   "source": [
    "with DataGenerator(config) as generator:\n",
    "    df_origem, df_fluxo, df_analises = generator.gerar_e_inserir_dados()"
   ]
  },
  {
   "cell_type": "code",
   "execution_count": null,
   "id": "be03a493-ae86-4225-8662-b0ce4a55d80a",
   "metadata": {},
   "outputs": [],
   "source": [
    "df_origem.head()"
   ]
  },
  {
   "cell_type": "code",
   "execution_count": null,
   "id": "eee8ac61-aa54-4ea0-b533-27338bc92e96",
   "metadata": {},
   "outputs": [],
   "source": [
    "df_fluxo.columns"
   ]
  },
  {
   "cell_type": "code",
   "execution_count": null,
   "id": "a5e8af33-6f40-4304-93ac-2bad32b3a196",
   "metadata": {},
   "outputs": [],
   "source": [
    "df_analises.shape"
   ]
  },
  {
   "cell_type": "code",
   "execution_count": null,
   "id": "1469db3c-4be1-465d-8ad9-ca8c8e75580a",
   "metadata": {},
   "outputs": [],
   "source": [
    "info_df = postgres.get_table_info('dados_origem')\n",
    "print(info_df)"
   ]
  },
  {
   "cell_type": "code",
   "execution_count": null,
   "id": "d1d4b62c-e5db-477d-af1c-5ddab2ea1c51",
   "metadata": {},
   "outputs": [],
   "source": []
  }
 ],
 "metadata": {
  "kernelspec": {
   "display_name": "Python 3 (ipykernel)",
   "language": "python",
   "name": "python3"
  },
  "language_info": {
   "codemirror_mode": {
    "name": "ipython",
    "version": 3
   },
   "file_extension": ".py",
   "mimetype": "text/x-python",
   "name": "python",
   "nbconvert_exporter": "python",
   "pygments_lexer": "ipython3",
   "version": "3.12.3"
  }
 },
 "nbformat": 4,
 "nbformat_minor": 5
}
